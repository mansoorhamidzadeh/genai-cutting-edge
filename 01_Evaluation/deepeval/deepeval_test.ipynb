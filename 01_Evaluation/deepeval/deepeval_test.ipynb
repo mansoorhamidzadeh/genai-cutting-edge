{
 "cells": [
  {
   "metadata": {},
   "cell_type": "code",
   "source": [
    "from deepeval.synthesizer import Synthesizer\n",
    "from custom_models import CustomLLModel, CustomEmbeddingModel\n",
    "from synthetic_dataset_generate import DeepEvalSynthesizer\n",
    "from utils.llm_con import get_chat_openai\n",
    "from deepeval.dataset import EvaluationDataset as deepeval_EvaluationDataset\n",
    "from langchain_core.messages import HumanMessage\n",
    "from deepeval.test_case import LLMTestCase\n",
    "\n",
    "from deepeval.metrics import HallucinationMetric\n",
    "\n",
    "from deepeval import evaluate as deepeval_evaluate\n",
    "llm=get_chat_openai()\n",
    "deep_e=DeepEvalSynthesizer(CustomLLModel(llm),CustomEmbeddingModel())"
   ],
   "id": "fd14a7f8c8533707",
   "outputs": [],
   "execution_count": null
  },
  {
   "metadata": {},
   "cell_type": "code",
   "source": [
    "path='../../Datasets/txt_example.txt'\n",
    "\n",
    "result=deep_e.generate_goldens_from_documents(document_paths=path)"
   ],
   "id": "ae986e3d5515090e",
   "outputs": [],
   "execution_count": null
  },
  {
   "metadata": {},
   "cell_type": "code",
   "source": [
    "deep_e.to_dataframe()\n",
    "deep_e.save_dataset(directory=\"../../Datasets/\")\n"
   ],
   "id": "e6d11ba5d61f50ad",
   "outputs": [],
   "execution_count": null
  },
  {
   "metadata": {},
   "cell_type": "code",
   "source": [
    "\n",
    "\n",
    "class MeetingSummarizer:\n",
    "    def __init__(\n",
    "            self,\n",
    "\n",
    "    ):\n",
    "        self.client = llm\n",
    "        self.prompt_template = (\n",
    "            \"You are an AI assistant tasked with summarizing legal documents\"\n",
    "            \" concisely and accurately. Given the following legal text, generate\"\n",
    "            \" a summary that captures the key points while avoiding unnecessary\"\n",
    "            \" details. Ensure neutrality and refrain from interpreting beyond the\"\n",
    "            \" provided text.\\n\\n{text}\"\n",
    "        )\n",
    "\n",
    "    def summarize(self, transcript: str) -> str:\n",
    "        \"\"\"\n",
    "        Summarize the provided transcript using the ChatOpenAI model.\n",
    "\n",
    "        Args:\n",
    "            transcript (str): The legal document text to summarize.\n",
    "\n",
    "        Returns:\n",
    "            str: The generated summary.\n",
    "        \"\"\"\n",
    "        prompt = self.prompt_template.format(text=transcript.strip())\n",
    "\n",
    "        response = self.client(\n",
    "            [HumanMessage(content=prompt)]\n",
    "        )\n",
    "\n",
    "        return response.content.strip()\n",
    "llm_=MeetingSummarizer()"
   ],
   "id": "4a617d28c4fc81c3",
   "outputs": [],
   "execution_count": null
  },
  {
   "metadata": {},
   "cell_type": "code",
   "source": [
    "\n",
    "for golden in dataset.goldens:\n",
    "    actual_output = llm_.summarize(golden.expected_output)\n",
    "    dataset.add_test_case(\n",
    "        LLMTestCase(\n",
    "            input=golden.input,\n",
    "            actual_output=actual_output,\n",
    "            expected_output=golden.expected_output,\n",
    "            context=golden.context\n",
    "\n",
    "        )\n",
    "    )"
   ],
   "id": "f34f6ade312297f1",
   "outputs": [],
   "execution_count": null
  },
  {
   "metadata": {},
   "cell_type": "code",
   "source": [
    "\n",
    "metric =HallucinationMetric(threshold=0.5,model=CustomLLModel(llm))\n",
    "\n",
    "deepeval_evaluate(test_cases=dataset, metrics=[metric])"
   ],
   "id": "9ce9aa370814f9a6",
   "outputs": [],
   "execution_count": null
  },
  {
   "metadata": {},
   "cell_type": "code",
   "source": "",
   "id": "bc386bae419d7eae",
   "outputs": [],
   "execution_count": null
  }
 ],
 "metadata": {
  "kernelspec": {
   "display_name": "Python 3",
   "language": "python",
   "name": "python3"
  },
  "language_info": {
   "codemirror_mode": {
    "name": "ipython",
    "version": 2
   },
   "file_extension": ".py",
   "mimetype": "text/x-python",
   "name": "python",
   "nbconvert_exporter": "python",
   "pygments_lexer": "ipython2",
   "version": "2.7.6"
  }
 },
 "nbformat": 4,
 "nbformat_minor": 5
}
