{
 "cells": [
  {
   "metadata": {
    "ExecuteTime": {
     "end_time": "2025-08-03T06:53:12.546321Z",
     "start_time": "2025-08-03T06:53:06.165335Z"
    }
   },
   "cell_type": "code",
   "source": [
    "from deepeval.synthesizer import Synthesizer\n",
    "from custom_models import CustomLLModel, CustomEmbeddingModel\n",
    "from synthetic_dataset_generate import DeepEvalSynthesizer\n",
    "from utils.llm_con import get_chat_openai\n",
    "from deepeval.dataset import EvaluationDataset as deepeval_EvaluationDataset\n",
    "from langchain_core.messages import HumanMessage\n",
    "from deepeval.test_case import LLMTestCase\n",
    "\n",
    "from deepeval.metrics import HallucinationMetric\n",
    "\n",
    "from deepeval import evaluate as deepeval_evaluate\n",
    "llm=get_chat_openai()\n",
    "deep_e=DeepEvalSynthesizer(CustomLLModel(llm),CustomEmbeddingModel())"
   ],
   "id": "fd14a7f8c8533707",
   "outputs": [],
   "execution_count": 1
  },
  {
   "metadata": {
    "ExecuteTime": {
     "end_time": "2025-08-03T06:53:43.016572Z",
     "start_time": "2025-08-03T06:53:12.577537Z"
    }
   },
   "cell_type": "code",
   "source": [
    "path='../../Datasets/txt_example.txt'\n",
    "\n",
    "result=deep_e.generate_goldens_from_documents(document_paths=path)"
   ],
   "id": "ae986e3d5515090e",
   "outputs": [
    {
     "data": {
      "text/plain": [
       "Output()"
      ],
      "application/vnd.jupyter.widget-view+json": {
       "version_major": 2,
       "version_minor": 0,
       "model_id": "084407bc24a4403c918a35a27b674416"
      }
     },
     "metadata": {},
     "output_type": "display_data"
    },
    {
     "data": {
      "text/plain": [
       "\u001B[2m[Confident AI Synthesizer Log]\u001B[0m SUCCESS: \u001B[32mSuccessfully deleted\u001B[0m: .vector_db\n"
      ],
      "text/html": [
       "<pre style=\"white-space:pre;overflow-x:auto;line-height:normal;font-family:Menlo,'DejaVu Sans Mono',consolas,'Courier New',monospace\"><span style=\"color: #7f7f7f; text-decoration-color: #7f7f7f\">[Confident AI Synthesizer Log]</span> SUCCESS: <span style=\"color: #008000; text-decoration-color: #008000\">Successfully deleted</span>: .vector_db\n",
       "</pre>\n"
      ]
     },
     "metadata": {},
     "output_type": "display_data"
    },
    {
     "data": {
      "text/plain": [
       "C:\\Users\\manso\\DataspellProjects\\genai-cutting-edge\\01_Evaluation\\deepeval\\custom_models.py:42: \n",
       "LangChainDeprecationWarning: The class `HuggingFaceEmbeddings` was deprecated in LangChain 0.2.2 and will be \n",
       "removed in 1.0. An updated version of the class exists in the :class:`~langchain-huggingface package and should be \n",
       "used instead. To use it run `pip install -U :class:`~langchain-huggingface` and import as `from \n",
       ":class:`~langchain_huggingface import HuggingFaceEmbeddings``.\n",
       "  self.model = HuggingFaceEmbeddings(\n"
      ],
      "text/html": [
       "<pre style=\"white-space:pre;overflow-x:auto;line-height:normal;font-family:Menlo,'DejaVu Sans Mono',consolas,'Courier New',monospace\">C:\\Users\\manso\\DataspellProjects\\genai-cutting-edge\\01_Evaluation\\deepeval\\custom_models.py:42: \n",
       "LangChainDeprecationWarning: The class `HuggingFaceEmbeddings` was deprecated in LangChain 0.2.2 and will be \n",
       "removed in 1.0. An updated version of the class exists in the :class:`~langchain-huggingface package and should be \n",
       "used instead. To use it run `pip install -U :class:`~langchain-huggingface` and import as `from \n",
       ":class:`~langchain_huggingface import HuggingFaceEmbeddings``.\n",
       "  self.model = HuggingFaceEmbeddings(\n",
       "</pre>\n"
      ]
     },
     "metadata": {},
     "output_type": "display_data"
    },
    {
     "data": {
      "text/plain": [
       "\u001B[2m[Confident AI Synthesizer Log]\u001B[0m WARNING: \u001B[33mFiltering not applied\u001B[0m: Not enough chunks in smallest document\n"
      ],
      "text/html": [
       "<pre style=\"white-space:pre;overflow-x:auto;line-height:normal;font-family:Menlo,'DejaVu Sans Mono',consolas,'Courier New',monospace\"><span style=\"color: #7f7f7f; text-decoration-color: #7f7f7f\">[Confident AI Synthesizer Log]</span> WARNING: <span style=\"color: #808000; text-decoration-color: #808000\">Filtering not applied</span>: Not enough chunks in smallest document\n",
       "</pre>\n"
      ]
     },
     "metadata": {},
     "output_type": "display_data"
    },
    {
     "data": {
      "text/plain": [
       "\u001B[2m[Confident AI Synthesizer Log]\u001B[0m SUCCESS: \u001B[32mSuccessfully deleted\u001B[0m: .vector_db\n"
      ],
      "text/html": [
       "<pre style=\"white-space:pre;overflow-x:auto;line-height:normal;font-family:Menlo,'DejaVu Sans Mono',consolas,'Courier New',monospace\"><span style=\"color: #7f7f7f; text-decoration-color: #7f7f7f\">[Confident AI Synthesizer Log]</span> SUCCESS: <span style=\"color: #008000; text-decoration-color: #008000\">Successfully deleted</span>: .vector_db\n",
       "</pre>\n"
      ]
     },
     "metadata": {},
     "output_type": "display_data"
    },
    {
     "data": {
      "text/plain": [
       "\u001B[2m[Confident AI Synthesizer Log]\u001B[0m SUCCESS: \u001B[32mContext Construction\u001B[0m: Utilizing 4 out of 4 chunks.\n"
      ],
      "text/html": [
       "<pre style=\"white-space:pre;overflow-x:auto;line-height:normal;font-family:Menlo,'DejaVu Sans Mono',consolas,'Courier New',monospace\"><span style=\"color: #7f7f7f; text-decoration-color: #7f7f7f\">[Confident AI Synthesizer Log]</span> SUCCESS: <span style=\"color: #008000; text-decoration-color: #008000\">Context Construction</span>: Utilizing 4 out of 4 chunks.\n",
       "</pre>\n"
      ]
     },
     "metadata": {},
     "output_type": "display_data"
    },
    {
     "data": {
      "text/plain": [],
      "text/html": [
       "<pre style=\"white-space:pre;overflow-x:auto;line-height:normal;font-family:Menlo,'DejaVu Sans Mono',consolas,'Courier New',monospace\"></pre>\n"
      ]
     },
     "metadata": {},
     "output_type": "display_data"
    }
   ],
   "execution_count": 2
  },
  {
   "metadata": {
    "ExecuteTime": {
     "end_time": "2025-08-03T06:53:43.970401Z",
     "start_time": "2025-08-03T06:53:43.952352Z"
    }
   },
   "cell_type": "code",
   "source": [
    "deep_e.to_dataframe()\n",
    "deep_e.save_dataset(directory=\"../../Datasets/\")\n"
   ],
   "id": "e6d11ba5d61f50ad",
   "outputs": [
    {
     "data": {
      "text/plain": [
       "Synthetic goldens saved at ..\u001B[35m/../Datasets/\u001B[0m\u001B[95m20250803_102343.json\u001B[0m!\n"
      ],
      "text/html": [
       "<pre style=\"white-space:pre;overflow-x:auto;line-height:normal;font-family:Menlo,'DejaVu Sans Mono',consolas,'Courier New',monospace\">Synthetic goldens saved at ..<span style=\"color: #800080; text-decoration-color: #800080\">/../Datasets/</span><span style=\"color: #ff00ff; text-decoration-color: #ff00ff\">20250803_102343.json</span>!\n",
       "</pre>\n"
      ]
     },
     "metadata": {},
     "output_type": "display_data"
    }
   ],
   "execution_count": 3
  },
  {
   "metadata": {
    "ExecuteTime": {
     "end_time": "2025-08-03T06:53:44.081517Z",
     "start_time": "2025-08-03T06:53:44.074512Z"
    }
   },
   "cell_type": "code",
   "source": [
    "\n",
    "\n",
    "class MeetingSummarizer:\n",
    "    def __init__(\n",
    "            self,\n",
    "\n",
    "    ):\n",
    "        self.client = llm\n",
    "        self.prompt_template = (\n",
    "            \"You are an AI assistant tasked with summarizing legal documents\"\n",
    "            \" concisely and accurately. Given the following legal text, generate\"\n",
    "            \" a summary that captures the key points while avoiding unnecessary\"\n",
    "            \" details. Ensure neutrality and refrain from interpreting beyond the\"\n",
    "            \" provided text.\\n\\n{text}\"\n",
    "        )\n",
    "\n",
    "    def summarize(self, transcript: str) -> str:\n",
    "        \"\"\"\n",
    "        Summarize the provided transcript using the ChatOpenAI model.\n",
    "\n",
    "        Args:\n",
    "            transcript (str): The legal document text to summarize.\n",
    "\n",
    "        Returns:\n",
    "            str: The generated summary.\n",
    "        \"\"\"\n",
    "        prompt = self.prompt_template.format(text=transcript.strip())\n",
    "\n",
    "        response = self.client(\n",
    "            [HumanMessage(content=prompt)]\n",
    "        )\n",
    "\n",
    "        return response.content.strip()\n",
    "llm_=MeetingSummarizer()"
   ],
   "id": "4a617d28c4fc81c3",
   "outputs": [],
   "execution_count": 4
  }
 ],
 "metadata": {
  "kernelspec": {
   "display_name": "Python 3",
   "language": "python",
   "name": "python3"
  },
  "language_info": {
   "codemirror_mode": {
    "name": "ipython",
    "version": 2
   },
   "file_extension": ".py",
   "mimetype": "text/x-python",
   "name": "python",
   "nbconvert_exporter": "python",
   "pygments_lexer": "ipython2",
   "version": "2.7.6"
  }
 },
 "nbformat": 4,
 "nbformat_minor": 5
}
